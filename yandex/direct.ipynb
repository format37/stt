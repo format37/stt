{
 "cells": [
  {
   "cell_type": "code",
   "execution_count": 3,
   "id": "f87ff95e",
   "metadata": {},
   "outputs": [],
   "source": [
    "import requests\n",
    "import time\n",
    "import os"
   ]
  },
  {
   "cell_type": "code",
   "execution_count": 2,
   "id": "50eb5ee2",
   "metadata": {},
   "outputs": [],
   "source": [
    "def transcribe_yandex(filelink):\n",
    "    print(filelink)\n",
    "    # https://cloud.yandex.ru/services/speechkit\n",
    "\n",
    "    # Укажите ваш API-ключ и ссылку на аудиофайл в Object Storage.\n",
    "    with open('yandex_api.key', 'r') as file:\n",
    "        key = file.read().replace('\\n', '')\n",
    "        file.close()\n",
    "\n",
    "    POST = \"https://transcribe.api.cloud.yandex.net/speech/stt/v2/longRunningRecognize\"\n",
    "\n",
    "    body ={\n",
    "        \"config\": {\n",
    "            \"specification\": {\n",
    "                \"languageCode\": \"ru-RU\",\n",
    "                \"audio_encoding\":'LINEAR16_PCM',\n",
    "                \"sample_rate_hertz\":8000\n",
    "            }\n",
    "        },\n",
    "        \"audio\": {\n",
    "            \"uri\": filelink\n",
    "        }\n",
    "    }\n",
    "\n",
    "    # Если вы хотите использовать IAM-токен для аутентификации, замените Api-Key на Bearer.\n",
    "    header = {'Authorization': 'Api-Key {}'.format(key)}\n",
    "\n",
    "    # Отправить запрос на распознавание.\n",
    "    req = requests.post(POST, headers=header, json=body)\n",
    "    data = req.json()\n",
    "    print(data)\n",
    "    id = data['id']\n",
    "\n",
    "    # Запрашивать на сервере статус операции, пока распознавание не будет завершено.\n",
    "    while True:\n",
    "\n",
    "        time.sleep(1)\n",
    "\n",
    "        GET = \"https://operation.api.cloud.yandex.net/operations/{id}\"\n",
    "        req = requests.get(GET.format(id=id), headers=header)\n",
    "        req = req.json()\n",
    "\n",
    "        if req['done']: break\n",
    "        #print(\"Not ready\")\n",
    "\n",
    "    # Показать полный ответ сервера в формате JSON.\n",
    "    #print(\"Response:\")\n",
    "    #print(json.dumps(req, ensure_ascii=False, indent=2))\n",
    "\n",
    "    # Показать только текст из результатов распознавания.\n",
    "    #print(\"Text chunks:\")\n",
    "    result = ''\n",
    "    for chunk in req['response']['chunks']:\n",
    "        result += chunk['alternatives'][0]['text'] + ' '\n",
    "\n",
    "    return result"
   ]
  },
  {
   "cell_type": "code",
   "execution_count": 4,
   "id": "f871144c",
   "metadata": {},
   "outputs": [
    {
     "name": "stdout",
     "output_type": "stream",
     "text": [
      "now drag'n'drop files to bucket\n"
     ]
    },
    {
     "name": "stderr",
     "output_type": "stream",
     "text": [
      "ffmpeg version 4.4.1 Copyright (c) 2000-2021 the FFmpeg developers\n",
      "  built with gcc 9.4.0 (GCC)\n",
      "  configuration: --prefix=/home/alex/anaconda3/envs/pycuda --cc=/home/conda/feedstock_root/build_artifacts/ffmpeg_1636205340875/_build_env/bin/x86_64-conda-linux-gnu-cc --disable-doc --disable-openssl --enable-avresample --enable-demuxer=dash --enable-gnutls --enable-gpl --enable-hardcoded-tables --enable-libfreetype --enable-libopenh264 --enable-vaapi --enable-libx264 --enable-libx265 --enable-libaom --enable-libsvtav1 --enable-libxml2 --enable-libvpx --enable-pic --enable-pthreads --enable-shared --disable-static --enable-version3 --enable-zlib --enable-libmp3lame --pkg-config=/home/conda/feedstock_root/build_artifacts/ffmpeg_1636205340875/_build_env/bin/pkg-config\n",
      "  libavutil      56. 70.100 / 56. 70.100\n",
      "  libavcodec     58.134.100 / 58.134.100\n",
      "  libavformat    58. 76.100 / 58. 76.100\n",
      "  libavdevice    58. 13.100 / 58. 13.100\n",
      "  libavfilter     7.110.100 /  7.110.100\n",
      "  libavresample   4.  0.  0 /  4.  0.  0\n",
      "  libswscale      5.  9.100 /  5.  9.100\n",
      "  libswresample   3.  9.100 /  3.  9.100\n",
      "  libpostproc    55.  9.100 / 55.  9.100\n",
      "Guessed Channel Layout for Input Stream #0.0 : mono\n",
      "Input #0, wav, from 'ru.wav':\n",
      "  Duration: 00:00:05.54, bitrate: 256 kb/s\n",
      "  Stream #0:0: Audio: pcm_s16le ([1][0][0][0] / 0x0001), 16000 Hz, mono, s16, 256 kb/s\n",
      "Stream mapping:\n",
      "  Stream #0:0 -> #0:0 (pcm_s16le (native) -> pcm_s16le (native))\n",
      "Press [q] to stop, [?] for help\n",
      "Output #0, f32le, to 'ru.ogg':\n",
      "  Metadata:\n",
      "    encoder         : Lavf58.76.100\n",
      "  Stream #0:0: Audio: pcm_s16le, 8000 Hz, mono, s16, 128 kb/s\n",
      "    Metadata:\n",
      "      encoder         : Lavc58.134.100 pcm_s16le\n",
      "size=       2kB time=00:00:00.00 bitrate=N/A speed=   0x    \r",
      "size=      87kB time=00:00:05.53 bitrate= 128.0kbits/s speed= 877x    \n",
      "video:0kB audio:87kB subtitle:0kB other streams:0kB global headers:0kB muxing overhead: 0.000000%\n"
     ]
    }
   ],
   "source": [
    "# conver to ogg\n",
    "file = 'ru.wav'\n",
    "os_cmd \t= 'ffmpeg -i '\n",
    "os_cmd += file\n",
    "os_cmd += ' -f f32le -ar 8000 -acodec pcm_s16le'\n",
    "os_cmd += ' ' + file[:-4] + '.ogg'\n",
    "try:\n",
    "    os.system(os_cmd)\n",
    "except Exception as e:\n",
    "    print('ffmpeg converting error:',str(e))\n",
    "print(\"now drag'n'drop files to bucket\")"
   ]
  },
  {
   "cell_type": "code",
   "execution_count": 5,
   "id": "580ccf02",
   "metadata": {},
   "outputs": [
    {
     "name": "stdout",
     "output_type": "stream",
     "text": [
      "https://storage.yandexcloud.net/voskaudio20211123/ru.ogg\n",
      "{'done': False, 'id': 'e033ent39tn758a291ni', 'createdAt': '2022-07-01T05:36:51Z', 'createdBy': 'ajeel38rchgt6n77eu0q', 'modifiedAt': '2022-07-01T05:36:51Z'}\n"
     ]
    },
    {
     "data": {
      "text/plain": [
       "'Сегодня ожидается хорошая погода без осадков температура воздуха 9° '"
      ]
     },
     "execution_count": 5,
     "metadata": {},
     "output_type": "execute_result"
    }
   ],
   "source": [
    "file = file[:-4] + '.ogg'\n",
    "r = transcribe_yandex('https://storage.yandexcloud.net/voskaudio20211123/' + file)\n",
    "r"
   ]
  }
 ],
 "metadata": {
  "kernelspec": {
   "display_name": "Python (ml04)",
   "language": "python",
   "name": "ml04"
  },
  "language_info": {
   "codemirror_mode": {
    "name": "ipython",
    "version": 3
   },
   "file_extension": ".py",
   "mimetype": "text/x-python",
   "name": "python",
   "nbconvert_exporter": "python",
   "pygments_lexer": "ipython3",
   "version": "3.7.13"
  }
 },
 "nbformat": 4,
 "nbformat_minor": 5
}
