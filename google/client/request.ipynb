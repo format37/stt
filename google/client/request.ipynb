{
 "cells": [
  {
   "cell_type": "code",
   "execution_count": 1,
   "id": "22562d58",
   "metadata": {},
   "outputs": [],
   "source": [
    "import json\n",
    "import requests\n",
    "from datetime import datetime as dt"
   ]
  },
  {
   "cell_type": "code",
   "execution_count": 2,
   "id": "0a62c114",
   "metadata": {},
   "outputs": [],
   "source": [
    "file_path = 'telegram.ogg'\n",
    "\n",
    "# read the file_data from audio file for sending vie requests\n",
    "with open(file_path, 'rb') as f:\n",
    "    file_data = f.read()\n",
    "\n",
    "# send request\n",
    "url = 'http://127.0.0.1:4202/inference'"
   ]
  },
  {
   "cell_type": "code",
   "execution_count": 3,
   "id": "f0f32b4b",
   "metadata": {},
   "outputs": [
    {
     "name": "stdout",
     "output_type": "stream",
     "text": [
      "2022-10-02 12:31:56.457603\n",
      "2022-10-02 12:31:57.733956\n",
      "<Response [200]>\n",
      "hi this is a test how you doing\n"
     ]
    }
   ],
   "source": [
    "print(dt.now())\n",
    "r = requests.post(url, files={'file': file_data})\n",
    "print(dt.now())\n",
    "print(r)\n",
    "print(r.text)"
   ]
  }
 ],
 "metadata": {
  "kernelspec": {
   "display_name": "Python 3 (ipykernel)",
   "language": "python",
   "name": "python3"
  },
  "language_info": {
   "codemirror_mode": {
    "name": "ipython",
    "version": 3
   },
   "file_extension": ".py",
   "mimetype": "text/x-python",
   "name": "python",
   "nbconvert_exporter": "python",
   "pygments_lexer": "ipython3",
   "version": "3.8.10"
  }
 },
 "nbformat": 4,
 "nbformat_minor": 5
}
