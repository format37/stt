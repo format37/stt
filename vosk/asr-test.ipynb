{
 "cells": [
  {
   "cell_type": "code",
   "execution_count": 1,
   "id": "04bcd79a",
   "metadata": {},
   "outputs": [],
   "source": [
    "import asyncio\n",
    "import websockets\n",
    "import sys\n",
    "import wave\n",
    "import json"
   ]
  },
  {
   "cell_type": "code",
   "execution_count": 2,
   "id": "42064653",
   "metadata": {},
   "outputs": [],
   "source": [
    "stt_server = 'ws://localhost:2700'"
   ]
  },
  {
   "cell_type": "code",
   "execution_count": 3,
   "id": "04e4801b",
   "metadata": {},
   "outputs": [],
   "source": [
    "def accept_feature_extractor(phrases, accept):\n",
    "    if len(accept) > 1 and accept['text'] != '':\n",
    "        accept_text = str(accept['text'])\n",
    "        conf_score = []\n",
    "        for result_rec in accept['result']:\n",
    "            \"\"\"print(\n",
    "                '#',\n",
    "                result_rec['conf'],\n",
    "                result_rec['start'],\n",
    "                result_rec['end'],\n",
    "                result_rec['word']\n",
    "                )\"\"\"\n",
    "            conf_score.append(float(result_rec['conf']))\n",
    "        conf_mid = str(sum(conf_score)/len(conf_score))\n",
    "        # print('=== middle confidence:', conf_mid, '\\n')\n",
    "        phrases.append(accept_text)"
   ]
  },
  {
   "cell_type": "code",
   "execution_count": 4,
   "id": "5cb89821",
   "metadata": {},
   "outputs": [],
   "source": [
    "async def stt(uri, file_name):\n",
    "\n",
    "    async with websockets.connect(uri) as websocket:\n",
    "\n",
    "        phrases = []\n",
    "\n",
    "        wf = wave.open(file_name, \"rb\")\n",
    "        await websocket.send(\n",
    "            '{ \"config\" : { \"sample_rate\" : %d } }' % (wf.getframerate())\n",
    "            )\n",
    "        buffer_size = int(wf.getframerate() * 0.2)  # 0.2 seconds of audio\n",
    "        while True:\n",
    "            data = wf.readframes(buffer_size)\n",
    "\n",
    "            if len(data) == 0:\n",
    "                break\n",
    "\n",
    "            await websocket.send(data)\n",
    "            accept = json.loads(await websocket.recv())\n",
    "            accept_feature_extractor(phrases, accept)\n",
    "\n",
    "        await websocket.send('{\"eof\" : 1}')\n",
    "        accept = json.loads(await websocket.recv())\n",
    "        accept_feature_extractor(phrases, accept)\n",
    "\n",
    "        return phrases"
   ]
  },
  {
   "cell_type": "code",
   "execution_count": 5,
   "id": "aa98ac31",
   "metadata": {},
   "outputs": [],
   "source": [
    "file_name = 'ru.wav'"
   ]
  },
  {
   "cell_type": "code",
   "execution_count": 6,
   "id": "d0f4eda8",
   "metadata": {
    "scrolled": true
   },
   "outputs": [],
   "source": [
    "phrases = await stt(stt_server, file_name)"
   ]
  },
  {
   "cell_type": "code",
   "execution_count": 7,
   "id": "c7011a65",
   "metadata": {},
   "outputs": [
    {
     "data": {
      "text/plain": [
       "['сегодня ожидается хорошая погода без осадков температура воздуха десять градусов']"
      ]
     },
     "execution_count": 7,
     "metadata": {},
     "output_type": "execute_result"
    }
   ],
   "source": [
    "phrases"
   ]
  }
 ],
 "metadata": {
  "kernelspec": {
   "display_name": "Python (ml04)",
   "language": "python",
   "name": "ml04"
  },
  "language_info": {
   "codemirror_mode": {
    "name": "ipython",
    "version": 3
   },
   "file_extension": ".py",
   "mimetype": "text/x-python",
   "name": "python",
   "nbconvert_exporter": "python",
   "pygments_lexer": "ipython3",
   "version": "3.7.13"
  }
 },
 "nbformat": 4,
 "nbformat_minor": 5
}
